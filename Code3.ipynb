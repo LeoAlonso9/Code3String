{
 "cells": [
  {
   "cell_type": "code",
   "execution_count": 16,
   "id": "28c2fd29",
   "metadata": {},
   "outputs": [
    {
     "name": "stdout",
     "output_type": "stream",
     "text": [
      "Enter your name: Leo\n",
      "Hello, Leo! Nice to meet you.\n",
      "Hello, Leo! Nice to meet you.\n"
     ]
    }
   ],
   "source": [
    "# problem 1\n",
    "name = input(\"Enter your name: \")\n",
    "print(f\"Hello, {name}! Nice to meet you.\")\n",
    "print(\"Hello, \" + name + \"! Nice to meet you.\")\n",
    "\n"
   ]
  },
  {
   "cell_type": "code",
   "execution_count": 17,
   "id": "218707ba",
   "metadata": {},
   "outputs": [
    {
     "name": "stdout",
     "output_type": "stream",
     "text": [
      "Enter a word: Reverse\n",
      "REversed word: esreveR.\n"
     ]
    }
   ],
   "source": [
    "# problem 2\n",
    "word = input(\"Enter a word: \")\n",
    "reversed_word = word[::-1]\n",
    "print(f\"REversed word: {reversed_word}.\")\n"
   ]
  },
  {
   "cell_type": "code",
   "execution_count": 18,
   "id": "7e33c8c8",
   "metadata": {},
   "outputs": [
    {
     "name": "stdout",
     "output_type": "stream",
     "text": [
      "Enter a sentence: How many characters does this sentence have?\n",
      "This sentence has 44 characters. \n"
     ]
    }
   ],
   "source": [
    "# problem 3 \n",
    "sentence = input(\"Enter a sentence: \")\n",
    "char_count = len(sentence)\n",
    "print(f\"This sentence has {char_count} characters. \")\n",
    "\n",
    "      \n"
   ]
  },
  {
   "cell_type": "code",
   "execution_count": 19,
   "id": "99a1762a",
   "metadata": {},
   "outputs": [
    {
     "name": "stdout",
     "output_type": "stream",
     "text": [
      "Enter a word or a sentence: How many vowels does this sentence have?\n",
      "Number of vowels is 12.\n"
     ]
    }
   ],
   "source": [
    "# problem 4\n",
    "string = input (\"Enter a word or a sentence: \")\n",
    "\n",
    "string_lower = string.lower()\n",
    "\n",
    "a_count = string_lower.count('a')\n",
    "e_count = string_lower.count('e')\n",
    "i_count = string_lower.count('i')\n",
    "o_count = string_lower.count('o')\n",
    "u_count = string_lower.count('u')\n",
    "\n",
    "vowel_count = a_count + e_count + i_count + o_count + u_count\n",
    "\n",
    "print(f\"Number of vowels is {vowel_count}.\")\n"
   ]
  },
  {
   "cell_type": "code",
   "execution_count": 20,
   "id": "84ae59b9",
   "metadata": {},
   "outputs": [
    {
     "name": "stdout",
     "output_type": "stream",
     "text": [
      "Enter a word: Racecar\n",
      "This word is a palindrome.\n"
     ]
    }
   ],
   "source": [
    "# problem 5\n",
    "word_to_check = input(\"Enter a word: \")\n",
    "word_palindrome = word_to_check.upper()\n",
    "\n",
    "if word_palindrome == word_palindrome[::-1]:\n",
    "    print(f\"This word is a palindrome.\")\n",
    "else: \n",
    "    print(f\"This word is not a palindrome.\")\n",
    "    "
   ]
  },
  {
   "cell_type": "code",
   "execution_count": 23,
   "id": "8308708b",
   "metadata": {},
   "outputs": [
    {
     "name": "stdout",
     "output_type": "stream",
     "text": [
      "Enter your secret message: secret message\n",
      "Encrypted secret message: SECRET_MESSAGE.\n"
     ]
    }
   ],
   "source": [
    "# problem 6 \n",
    "secret_message = input (\"Enter your secret message: \")\n",
    "encrypted = secret_message.upper().replace(\" \", \"_\")\n",
    "print(f\"Encrypted secret message: {encrypted}.\")\n"
   ]
  }
 ],
 "metadata": {
  "kernelspec": {
   "display_name": "Python 3 (ipykernel)",
   "language": "python",
   "name": "python3"
  },
  "language_info": {
   "codemirror_mode": {
    "name": "ipython",
    "version": 3
   },
   "file_extension": ".py",
   "mimetype": "text/x-python",
   "name": "python",
   "nbconvert_exporter": "python",
   "pygments_lexer": "ipython3",
   "version": "3.11.4"
  }
 },
 "nbformat": 4,
 "nbformat_minor": 5
}
